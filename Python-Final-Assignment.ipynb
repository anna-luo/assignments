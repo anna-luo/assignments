{
 "cells": [
  {
   "cell_type": "markdown",
   "metadata": {},
   "source": [
    "# Python Assignment\n",
    "\n",
    "\n",
    "|Name|examnr.|\n",
    "|----|-------|\n",
    "|Ying Luo|2007491|\n",
    "|Borja Casado|2016493|"
   ]
  },
  {
   "cell_type": "markdown",
   "metadata": {},
   "source": [
    "## Question\n",
    "\n",
    "Is the issue of gender inequality important enough to talk about on Twitter in India?\n",
    "\n"
   ]
  },
  {
   "cell_type": "markdown",
   "metadata": {},
   "source": [
    "## Motivation\n",
    "Gender Inequality, in simple words, may be defined as discrimination against women based on their sex. This peculiar type of discrimination against women is prevalent everywhere in the world and more so in Indian society. According to the Global Gender Gap Report released by the [World Economic Forum](https://www.weforum.org/events/world-economic-forum-annual-meeting-2018) (WEF) in 2014, India was ranked 114 on the Gender Gap Index (GGI) among 142 countries polled. When broken down into components of the GGI, India performs well on political empowerment, but is scored bad on Economic participation(134th) and opportunity, India also scores poorly on overall female to male literacy (126th) and health rankings (141th).\n",
    "\n",
    "The root cause of gender inequality in Indian society lies in its patriarchy system. According to the famous sociologists Sylvia Walby, patriarchy is \"a system of social structure and practices in which men dominate, oppress and exploit women\". Women's exploitation is an age old cultural phenomenon of Indian society. The system of patriarchy finds its validity and sanction in our religious beliefs, whether it is Hindu, Muslim or any other religion.\n",
    "\n",
    "Although there has been an increasing focus on women's empowerment in India, especially on how to economically empower women through education and work but on the ground there are not enough visible changes. The change will appear only when the mind set of Indian society changes; when society starts treating male and female on equal footing and when a girl is not considered as a burden. Twitter, as one of the most popular social network, there were 23.2 million ([Statista](https://www.statista.com/statistics/381832/twitter-users-india/)) monthly active users in India, we would like to see whether this is an active issue in Twitter, by interpreting India's trending topics in order to see what people is saying about #feminism and by looking at two related indicators from [The World Bank](https://data.worldbank.org/).\n"
   ]
  },
  {
   "cell_type": "markdown",
   "metadata": {},
   "source": [
    "## Method\n",
    "\n",
    "To get a simple but clear picture of woman's empowerment in india, we request information from World Bank data API’s, [wbdata](http://wbdata.readthedocs.io/en/latest/) to obtain Labour force female (% of total labour force) and Secondary education, pupils (% female). The first indicator shows us women's perfomance in the labour market and the second gives us an understanding of the proportion of women in secondary education, which is the most crucial for them to progress and become more powerful.\n",
    "\n",
    "As we know, social media is becoming more and more important when it comes to communication and knowledge. Twitter, is a free network where everybody can express their thoughts and therefore is very useful when we want to interpret people behaviour by looking at trending topics. We can infer some conclusions given some keywords that people use more often or given the popularity of certain twit or personality, and that is what we did here. We first need to access the data. In order to mine data from [Twitter](https://twitter.com/), we first created a developer app in [Twitter API](https://apps.twitter.com/) so that we could get access. Then, we chose the country we are interested in by inserting the country's [Where On Earth ID](http://woeid.rosselliot.co.nz/) and then after acquiring India's trending topics, we filtered them by the keyword #feminism in order to see what people talk about it. We interpreted how popular feminism is in twitter by looking at the trending topics, hashtags as well as who is popular when it comes to talk about feminism.  \n"
   ]
  },
  {
   "cell_type": "markdown",
   "metadata": {},
   "source": [
    "## Answer\n",
    "\n",
    "Yes, indian people do care about feminism. India is a country where many things have to be done yet and gender equality is one of them. However, we learn from the world bank data that its secondary education is improving over time and that will lead to a better women perfomance in the labour market. On the other hand, the labour market still show a big gap between men and women and the wish to make changes is captured in twitter through people claims when they talk about #feminism. \n",
    "\n"
   ]
  },
  {
   "cell_type": "markdown",
   "metadata": {},
   "source": [
    "## Extracting Data"
   ]
  },
  {
   "cell_type": "code",
   "execution_count": 65,
   "metadata": {
    "collapsed": true
   },
   "outputs": [],
   "source": [
    "#Libraries imported\n",
    "\n",
    "import wbdata \n",
    "import pandas as pd \n",
    "import numpy as np\n",
    "import matplotlib.pyplot as plt\n",
    "import twitter\n",
    "from prettytable import PrettyTable\n",
    "import datetime \n",
    "import requests\n"
   ]
  },
  {
   "cell_type": "markdown",
   "metadata": {},
   "source": [
    "Let's first have a look at the indicators that show a clear picture of the women's perfomance in India."
   ]
  },
  {
   "cell_type": "code",
   "execution_count": 58,
   "metadata": {
    "collapsed": true
   },
   "outputs": [],
   "source": [
    "#set up the country we want\n",
    "\n",
    "countries = [\"IND\"]"
   ]
  },
  {
   "cell_type": "code",
   "execution_count": 59,
   "metadata": {
    "collapsed": true
   },
   "outputs": [],
   "source": [
    "#set up the indicator we want by building a dictionary\n",
    "\n",
    "indicators = {'SL.TLF.TOTL.FE.ZS':'Labour force female', 'SE.SEC.ENRL.FE.ZS':'Sec. Ed. Pupils% Female'}\n"
   ]
  },
  {
   "cell_type": "code",
   "execution_count": 60,
   "metadata": {
    "collapsed": true
   },
   "outputs": [],
   "source": [
    "#grab indicators above for India and load into a data frame\n",
    "\n",
    "df = wbdata.get_dataframe(indicators, country=countries, convert_date=False)"
   ]
  },
  {
   "cell_type": "code",
   "execution_count": 61,
   "metadata": {},
   "outputs": [
    {
     "name": "stdout",
     "output_type": "stream",
     "text": [
      "      Labour force female\n",
      "date                     \n",
      "2016            24.693361\n",
      "2015            24.521093\n",
      "2014            24.378622\n",
      "2013            24.235051\n",
      "2012            24.097772\n",
      "2011            24.563874\n",
      "2010            25.037949\n",
      "2009            25.920097\n",
      "2008            26.805637\n",
      "2007            27.691578\n",
      "      Sec. Ed. Pupils% Female\n",
      "date                         \n",
      "2016                      NaN\n",
      "2015                47.599850\n",
      "2014                47.645618\n",
      "2013                47.573021\n",
      "2012                46.148151\n",
      "2011                45.981621\n",
      "2010                45.621319\n",
      "2009                45.494831\n",
      "2008                44.578659\n",
      "2007                43.972580\n"
     ]
    }
   ],
   "source": [
    "#To make it more relevant, we get data for the last 10 years\n",
    "\n",
    "ind_lff = df.iloc[[1,2,3,4,5,6,7,8,9,10],[0]] #India labour force indicator for the past 10 years\n",
    "ind_se = df.iloc[[1,2,3,4,5,6,7,8,9,10],[1]] #India secondary education indicator for the past 10 years\n",
    "\n",
    "print(ind_lff)\n",
    "print(ind_se)"
   ]
  },
  {
   "cell_type": "markdown",
   "metadata": {},
   "source": [
    "As the data comes in downwards trend, we need to manipulate it and revert it so that the following plots make sense.."
   ]
  },
  {
   "cell_type": "code",
   "execution_count": 62,
   "metadata": {},
   "outputs": [
    {
     "name": "stdout",
     "output_type": "stream",
     "text": [
      "      Labour force female\n",
      "date                     \n",
      "2007            27.691578\n",
      "2008            26.805637\n",
      "2009            25.920097\n",
      "2010            25.037949\n",
      "2011            24.563874\n",
      "2012            24.097772\n",
      "2013            24.235051\n",
      "2014            24.378622\n",
      "2015            24.521093\n",
      "2016            24.693361\n",
      "      Sec. Ed. Pupils% Female\n",
      "date                         \n",
      "2007                43.972580\n",
      "2008                44.578659\n",
      "2009                45.494831\n",
      "2010                45.621319\n",
      "2011                45.981621\n",
      "2012                46.148151\n",
      "2013                47.573021\n",
      "2014                47.645618\n",
      "2015                47.599850\n",
      "2016                      NaN\n"
     ]
    }
   ],
   "source": [
    "#Correcting the trend by using reindex.\n",
    "\n",
    "ind_lff = ind_lff.sort_index(axis=1 ,ascending=True)\n",
    "ind_lff = ind_lff.reindex(index=ind_lff.index[::-1])\n",
    "ind_se = ind_se.sort_index(axis=1 ,ascending=True)\n",
    "ind_se = ind_se.reindex(index=ind_se.index[::-1])\n",
    "\n",
    "print(ind_lff)\n",
    "print(ind_se)"
   ]
  },
  {
   "cell_type": "markdown",
   "metadata": {},
   "source": [
    "And we finally plot the customized graphs."
   ]
  },
  {
   "cell_type": "code",
   "execution_count": 91,
   "metadata": {},
   "outputs": [
    {
     "data": {
      "image/png": "[encoded data removed]",
      "text/plain": [
       "<matplotlib.figure.Figure at 0x17e280127b8>"
      ]
     },
     "metadata": {},
     "output_type": "display_data"
    }
   ],
   "source": [
    "ind_lff.plot(color=\"blue\", linewidth=3.3)\n",
    "plt.rcParams['axes.facecolor'] = 'white'\n",
    "plt.title(\"Labour force female (% of total labour force)\")\n",
    "plt.ylabel(\"Percentage\")\n",
    "plt.xlabel(\"Year\")\n",
    "plt.xticks(rotation=45)\n",
    "plt.show()"
   ]
  },
  {
   "cell_type": "code",
   "execution_count": 92,
   "metadata": {},
   "outputs": [
    {
     "data": {
      "image/png": "[encoded data removed]",
      "text/plain": [
       "<matplotlib.figure.Figure at 0x17e29806f98>"
      ]
     },
     "metadata": {},
     "output_type": "display_data"
    }
   ],
   "source": [
    "ind_se.plot(color=\"red\", linewidth=3.3)\n",
    "plt.rcParams['axes.facecolor'] = 'white'\n",
    "plt.title(\"Secondary education, pupils (% female)\")\n",
    "plt.ylabel(\"Percentage\")\n",
    "plt.xlabel(\"Year\")\n",
    "plt.xticks(rotation=45)\n",
    "plt.show()"
   ]
  },
  {
   "cell_type": "markdown",
   "metadata": {},
   "source": [
    "As we can see from the first graph that women's performance in the labour market has been going worse despite of a slight increase in recent years. It implies that men are still the vast majority at work and there is a long way to go for woman to be financially independent and equal.\n",
    "\n",
    "The second graph shows that proportion of female pupils in secondary education has been improving significantly since 2012. This tells us that the progress to gender equality has been made as education is the first pillar that should be improved before expecting any change in the labour market.\n",
    "\n"
   ]
  },
  {
   "cell_type": "markdown",
   "metadata": {},
   "source": [
    "Let's now begin to extract the data from Twitter for the trending topics of today 27-01-2018"
   ]
  },
  {
   "cell_type": "code",
   "execution_count": 2,
   "metadata": {},
   "outputs": [
    {
     "name": "stdout",
     "output_type": "stream",
     "text": [
      "<twitter.api.Twitter object at 0x0000017E27C330F0>\n"
     ]
    }
   ],
   "source": [
    "#In order to access to Twitter data, we have to acquire the convenient developer credentials by using Twitter API.\n",
    "\n",
    "CONSUMER_KEY = ''\n",
    "CONSUMER_SECRET = ''\n",
    "OAUTH_TOKEN = ''\n",
    "OAUTH_TOKEN_SECRET = ''\n",
    "\n",
    "auth = twitter.oauth.OAuth(OAUTH_TOKEN, OAUTH_TOKEN_SECRET,\n",
    "                           CONSUMER_KEY, CONSUMER_SECRET)\n",
    "\n",
    "twitter_api = twitter.Twitter(auth=auth)\n",
    "\n",
    "print (twitter_api)"
   ]
  },
  {
   "cell_type": "code",
   "execution_count": 49,
   "metadata": {},
   "outputs": [
    {
     "name": "stdout",
     "output_type": "stream",
     "text": [
      "[{'trends': [{'name': '#Kasganj', 'url': 'http://twitter.com/search?q=%23Kasganj', 'promoted_content': None, 'query': '%23Kasganj', 'tweet_volume': 28530}, {'name': 'Shami', 'url': 'http://twitter.com/search?q=Shami', 'promoted_content': None, 'query': 'Shami', 'tweet_volume': 16510}, {'name': '#Kabul', 'url': 'http://twitter.com/search?q=%23Kabul', 'promoted_content': None, 'query': '%23Kabul', 'tweet_volume': 14312}, {'name': '#MuniTarunSagarwithJC', 'url': 'http://twitter.com/search?q=%23MuniTarunSagarwithJC', 'promoted_content': None, 'query': '%23MuniTarunSagarwithJC', 'tweet_volume': None}, {'name': '#KERDEL', 'url': 'http://twitter.com/search?q=%23KERDEL', 'promoted_content': None, 'query': '%23KERDEL', 'tweet_volume': None}, {'name': 'Dean Elgar', 'url': 'http://twitter.com/search?q=%22Dean+Elgar%22', 'promoted_content': None, 'query': '%22Dean+Elgar%22', 'tweet_volume': None}, {'name': '#BhaagamathieMakingVideo', 'url': 'http://twitter.com/search?q=%23BhaagamathieMakingVideo', 'promoted_content': None, 'query': '%23BhaagamathieMakingVideo', 'tweet_volume': None}, {'name': 'Basil Thampi', 'url': 'http://twitter.com/search?q=%22Basil+Thampi%22', 'promoted_content': None, 'query': '%22Basil+Thampi%22', 'tweet_volume': None}, {'name': 'Ishant Sharma', 'url': 'http://twitter.com/search?q=%22Ishant+Sharma%22', 'promoted_content': None, 'query': '%22Ishant+Sharma%22', 'tweet_volume': None}, {'name': 'Grand Slam', 'url': 'http://twitter.com/search?q=%22Grand+Slam%22', 'promoted_content': None, 'query': '%22Grand+Slam%22', 'tweet_volume': 40894}, {'name': '#Shopian', 'url': 'http://twitter.com/search?q=%23Shopian', 'promoted_content': None, 'query': '%23Shopian', 'tweet_volume': None}, {'name': '#KarthikSrinivasanCalendar', 'url': 'http://twitter.com/search?q=%23KarthikSrinivasanCalendar', 'promoted_content': None, 'query': '%23KarthikSrinivasanCalendar', 'tweet_volume': None}, {'name': '#SaintRamRahim_Initiative82', 'url': 'http://twitter.com/search?q=%23SaintRamRahim_Initiative82', 'promoted_content': None, 'query': '%23SaintRamRahim_Initiative82', 'tweet_volume': None}, {'name': '#HarryANDSejalOnANDPictures', 'url': 'http://twitter.com/search?q=%23HarryANDSejalOnANDPictures', 'promoted_content': None, 'query': '%23HarryANDSejalOnANDPictures', 'tweet_volume': None}, {'name': '#WanderersTest', 'url': 'http://twitter.com/search?q=%23WanderersTest', 'promoted_content': None, 'query': '%23WanderersTest', 'tweet_volume': None}, {'name': '#IndiaWithJamidha', 'url': 'http://twitter.com/search?q=%23IndiaWithJamidha', 'promoted_content': None, 'query': '%23IndiaWithJamidha', 'tweet_volume': None}, {'name': '#TwitterBestFandom', 'url': 'http://twitter.com/search?q=%23TwitterBestFandom', 'promoted_content': None, 'query': '%23TwitterBestFandom', 'tweet_volume': 6818314}, {'name': '#BBK5FinaleWithSudeep', 'url': 'http://twitter.com/search?q=%23BBK5FinaleWithSudeep', 'promoted_content': None, 'query': '%23BBK5FinaleWithSudeep', 'tweet_volume': None}, {'name': '#Neerali', 'url': 'http://twitter.com/search?q=%23Neerali', 'promoted_content': None, 'query': '%23Neerali', 'tweet_volume': None}, {'name': '#BattiGulMeterChalu', 'url': 'http://twitter.com/search?q=%23BattiGulMeterChalu', 'promoted_content': None, 'query': '%23BattiGulMeterChalu', 'tweet_volume': None}, {'name': '#Palestine', 'url': 'http://twitter.com/search?q=%23Palestine', 'promoted_content': None, 'query': '%23Palestine', 'tweet_volume': None}, {'name': '#BjpVijaySankalp2018', 'url': 'http://twitter.com/search?q=%23BjpVijaySankalp2018', 'promoted_content': None, 'query': '%23BjpVijaySankalp2018', 'tweet_volume': None}, {'name': '#TouchChesiChuduPreRelease', 'url': 'http://twitter.com/search?q=%23TouchChesiChuduPreRelease', 'promoted_content': None, 'query': '%23TouchChesiChuduPreRelease', 'tweet_volume': None}, {'name': '#Budget2018WithTimesNow', 'url': 'http://twitter.com/search?q=%23Budget2018WithTimesNow', 'promoted_content': None, 'query': '%23Budget2018WithTimesNow', 'tweet_volume': None}, {'name': '#SLvBAN', 'url': 'http://twitter.com/search?q=%23SLvBAN', 'promoted_content': None, 'query': '%23SLvBAN', 'tweet_volume': None}, {'name': '#InttelligentTeaser', 'url': 'http://twitter.com/search?q=%23InttelligentTeaser', 'promoted_content': None, 'query': '%23InttelligentTeaser', 'tweet_volume': None}, {'name': '#CCFCvARW', 'url': 'http://twitter.com/search?q=%23CCFCvARW', 'promoted_content': None, 'query': '%23CCFCvARW', 'tweet_volume': None}, {'name': '#ETMagazine', 'url': 'http://twitter.com/search?q=%23ETMagazine', 'promoted_content': None, 'query': '%23ETMagazine', 'tweet_volume': None}, {'name': '#LetsDineout', 'url': 'http://twitter.com/search?q=%23LetsDineout', 'promoted_content': None, 'query': '%23LetsDineout', 'tweet_volume': None}, {'name': '#Kohli', 'url': 'http://twitter.com/search?q=%23Kohli', 'promoted_content': None, 'query': '%23Kohli', 'tweet_volume': None}, {'name': '#ShubhMangalSaavdhan', 'url': 'http://twitter.com/search?q=%23ShubhMangalSaavdhan', 'promoted_content': None, 'query': '%23ShubhMangalSaavdhan', 'tweet_volume': None}, {'name': '#ChandrababuNaidu', 'url': 'http://twitter.com/search?q=%23ChandrababuNaidu', 'promoted_content': None, 'query': '%23ChandrababuNaidu', 'tweet_volume': None}, {'name': '#Jeeyar', 'url': 'http://twitter.com/search?q=%23Jeeyar', 'promoted_content': None, 'query': '%23Jeeyar', 'tweet_volume': None}, {'name': '#MaduraVeeranFromFeb2nd', 'url': 'http://twitter.com/search?q=%23MaduraVeeranFromFeb2nd', 'promoted_content': None, 'query': '%23MaduraVeeranFromFeb2nd', 'tweet_volume': None}, {'name': '#TheTallManBijuPatnaik', 'url': 'http://twitter.com/search?q=%23TheTallManBijuPatnaik', 'promoted_content': None, 'query': '%23TheTallManBijuPatnaik', 'tweet_volume': None}], 'as_of': '2018-01-27T15:43:19Z', 'created_at': '2018-01-27T15:42:17Z', 'locations': [{'name': 'India', 'woeid': 23424848}]}]\n"
     ]
    }
   ],
   "source": [
    "#India's Where On Earth ID\n",
    "\n",
    "IN_WOE_ID = 23424848 #India\n",
    "\n",
    "#And then we list the trends so that we can know who influence more by keywords\n",
    "\n",
    "in_trends = twitter_api.trends.place(_id=IN_WOE_ID)\n",
    "\n",
    "#We print the lists out\n",
    "\n",
    "print(in_trends)\n"
   ]
  },
  {
   "cell_type": "markdown",
   "metadata": {},
   "source": [
    "As the output is printed out as Native Python data structures, we should import JSON in order to convert the text in pretty printing (more readable)."
   ]
  },
  {
   "cell_type": "code",
   "execution_count": 50,
   "metadata": {},
   "outputs": [
    {
     "name": "stdout",
     "output_type": "stream",
     "text": [
      "[\n",
      " {\n",
      "  \"as_of\": \"2018-01-27T15:43:19Z\",\n",
      "  \"created_at\": \"2018-01-27T15:42:17Z\",\n",
      "  \"locations\": [\n",
      "   {\n",
      "    \"name\": \"India\",\n",
      "    \"woeid\": 23424848\n",
      "   }\n",
      "  ],\n",
      "  \"trends\": [\n",
      "   {\n",
      "    \"name\": \"#Kasganj\",\n",
      "    \"promoted_content\": null,\n",
      "    \"query\": \"%23Kasganj\",\n",
      "    \"tweet_volume\": 28530,\n",
      "    \"url\": \"http://twitter.com/search?q=%23Kasganj\"\n",
      "   },\n",
      "   {\n",
      "    \"name\": \"Shami\",\n",
      "    \"promoted_content\": null,\n",
      "    \"query\": \"Shami\",\n",
      "    \"tweet_volume\": 16510,\n",
      "    \"url\": \"http://twitter.com/search?q=Shami\"\n",
      "   },\n",
      "   {\n",
      "    \"name\": \"#Kabul\",\n",
      "    \"promoted_content\": null,\n",
      "    \"query\": \"%23Kabul\",\n",
      "    \"tweet_volume\": 14312,\n",
      "    \"url\": \"http://twitter.com/search?q=%23Kabul\"\n",
      "   },\n",
      "   {\n",
      "    \"name\": \"#MuniTarunSagarwithJC\",\n",
      "    \"promoted_content\": null,\n",
      "    \"query\": \"%23MuniTarunSagarwithJC\",\n",
      "    \"tweet_volume\": null,\n",
      "    \"url\": \"http://twitter.com/search?q=%23MuniTarunSagarwithJC\"\n",
      "   },\n",
      "   {\n",
      "    \"name\": \"#KERDEL\",\n",
      "    \"promoted_content\": null,\n",
      "    \"query\": \"%23KERDEL\",\n",
      "    \"tweet_volume\": null,\n",
      "    \"url\": \"http://twitter.com/search?q=%23KERDEL\"\n",
      "   },\n",
      "   {\n",
      "    \"name\": \"Dean Elgar\",\n",
      "    \"promoted_content\": null,\n",
      "    \"query\": \"%22Dean+Elgar%22\",\n",
      "    \"tweet_volume\": null,\n",
      "    \"url\": \"http://twitter.com/search?q=%22Dean+Elgar%22\"\n",
      "   },\n",
      "   {\n",
      "    \"name\": \"#BhaagamathieMakingVideo\",\n",
      "    \"promoted_content\": null,\n",
      "    \"query\": \"%23BhaagamathieMakingVideo\",\n",
      "    \"tweet_volume\": null,\n",
      "    \"url\": \"http://twitter.com/search?q=%23BhaagamathieMakingVideo\"\n",
      "   },\n",
      "   {\n",
      "    \"name\": \"Basil Thampi\",\n",
      "    \"promoted_content\": null,\n",
      "    \"query\": \"%22Basil+Thampi%22\",\n",
      "    \"tweet_volume\": null,\n",
      "    \"url\": \"http://twitter.com/search?q=%22Basil+Thampi%22\"\n",
      "   },\n",
      "   {\n",
      "    \"name\": \"Ishant Sharma\",\n",
      "    \"promoted_content\": null,\n",
      "    \"query\": \"%22Ishant+Sharma%22\",\n",
      "    \"tweet_volume\": null,\n",
      "    \"url\": \"http://twitter.com/search?q=%22Ishant+Sharma%22\"\n",
      "   },\n",
      "   {\n",
      "    \"name\": \"Grand Slam\",\n",
      "    \"promoted_content\": null,\n",
      "    \"query\": \"%22Grand+Slam%22\",\n",
      "    \"tweet_volume\": 40894,\n",
      "    \"url\": \"http://twitter.com/search?q=%22Grand+Slam%22\"\n",
      "   },\n",
      "   {\n",
      "    \"name\": \"#Shopian\",\n",
      "    \"promoted_content\": null,\n",
      "    \"query\": \"%23Shopian\",\n",
      "    \"tweet_volume\": null,\n",
      "    \"url\": \"http://twitter.com/search?q=%23Shopian\"\n",
      "   },\n",
      "   {\n",
      "    \"name\": \"#KarthikSrinivasanCalendar\",\n",
      "    \"promoted_content\": null,\n",
      "    \"query\": \"%23KarthikSrinivasanCalendar\",\n",
      "    \"tweet_volume\": null,\n",
      "    \"url\": \"http://twitter.com/search?q=%23KarthikSrinivasanCalendar\"\n",
      "   },\n",
      "   {\n",
      "    \"name\": \"#SaintRamRahim_Initiative82\",\n",
      "    \"promoted_content\": null,\n",
      "    \"query\": \"%23SaintRamRahim_Initiative82\",\n",
      "    \"tweet_volume\": null,\n",
      "    \"url\": \"http://twitter.com/search?q=%23SaintRamRahim_Initiative82\"\n",
      "   },\n",
      "   {\n",
      "    \"name\": \"#HarryANDSejalOnANDPictures\",\n",
      "    \"promoted_content\": null,\n",
      "    \"query\": \"%23HarryANDSejalOnANDPictures\",\n",
      "    \"tweet_volume\": null,\n",
      "    \"url\": \"http://twitter.com/search?q=%23HarryANDSejalOnANDPictures\"\n",
      "   },\n",
      "   {\n",
      "    \"name\": \"#WanderersTest\",\n",
      "    \"promoted_content\": null,\n",
      "    \"query\": \"%23WanderersTest\",\n",
      "    \"tweet_volume\": null,\n",
      "    \"url\": \"http://twitter.com/search?q=%23WanderersTest\"\n",
      "   },\n",
      "   {\n",
      "    \"name\": \"#IndiaWithJamidha\",\n",
      "    \"promoted_content\": null,\n",
      "    \"query\": \"%23IndiaWithJamidha\",\n",
      "    \"tweet_volume\": null,\n",
      "    \"url\": \"http://twitter.com/search?q=%23IndiaWithJamidha\"\n",
      "   },\n",
      "   {\n",
      "    \"name\": \"#TwitterBestFandom\",\n",
      "    \"promoted_content\": null,\n",
      "    \"query\": \"%23TwitterBestFandom\",\n",
      "    \"tweet_volume\": 6818314,\n",
      "    \"url\": \"http://twitter.com/search?q=%23TwitterBestFandom\"\n",
      "   },\n",
      "   {\n",
      "    \"name\": \"#BBK5FinaleWithSudeep\",\n",
      "    \"promoted_content\": null,\n",
      "    \"query\": \"%23BBK5FinaleWithSudeep\",\n",
      "    \"tweet_volume\": null,\n",
      "    \"url\": \"http://twitter.com/search?q=%23BBK5FinaleWithSudeep\"\n",
      "   },\n",
      "   {\n",
      "    \"name\": \"#Neerali\",\n",
      "    \"promoted_content\": null,\n",
      "    \"query\": \"%23Neerali\",\n",
      "    \"tweet_volume\": null,\n",
      "    \"url\": \"http://twitter.com/search?q=%23Neerali\"\n",
      "   },\n",
      "   {\n",
      "    \"name\": \"#BattiGulMeterChalu\",\n",
      "    \"promoted_content\": null,\n",
      "    \"query\": \"%23BattiGulMeterChalu\",\n",
      "    \"tweet_volume\": null,\n",
      "    \"url\": \"http://twitter.com/search?q=%23BattiGulMeterChalu\"\n",
      "   },\n",
      "   {\n",
      "    \"name\": \"#Palestine\",\n",
      "    \"promoted_content\": null,\n",
      "    \"query\": \"%23Palestine\",\n",
      "    \"tweet_volume\": null,\n",
      "    \"url\": \"http://twitter.com/search?q=%23Palestine\"\n",
      "   },\n",
      "   {\n",
      "    \"name\": \"#BjpVijaySankalp2018\",\n",
      "    \"promoted_content\": null,\n",
      "    \"query\": \"%23BjpVijaySankalp2018\",\n",
      "    \"tweet_volume\": null,\n",
      "    \"url\": \"http://twitter.com/search?q=%23BjpVijaySankalp2018\"\n",
      "   },\n",
      "   {\n",
      "    \"name\": \"#TouchChesiChuduPreRelease\",\n",
      "    \"promoted_content\": null,\n",
      "    \"query\": \"%23TouchChesiChuduPreRelease\",\n",
      "    \"tweet_volume\": null,\n",
      "    \"url\": \"http://twitter.com/search?q=%23TouchChesiChuduPreRelease\"\n",
      "   },\n",
      "   {\n",
      "    \"name\": \"#Budget2018WithTimesNow\",\n",
      "    \"promoted_content\": null,\n",
      "    \"query\": \"%23Budget2018WithTimesNow\",\n",
      "    \"tweet_volume\": null,\n",
      "    \"url\": \"http://twitter.com/search?q=%23Budget2018WithTimesNow\"\n",
      "   },\n",
      "   {\n",
      "    \"name\": \"#SLvBAN\",\n",
      "    \"promoted_content\": null,\n",
      "    \"query\": \"%23SLvBAN\",\n",
      "    \"tweet_volume\": null,\n",
      "    \"url\": \"http://twitter.com/search?q=%23SLvBAN\"\n",
      "   },\n",
      "   {\n",
      "    \"name\": \"#InttelligentTeaser\",\n",
      "    \"promoted_content\": null,\n",
      "    \"query\": \"%23InttelligentTeaser\",\n",
      "    \"tweet_volume\": null,\n",
      "    \"url\": \"http://twitter.com/search?q=%23InttelligentTeaser\"\n",
      "   },\n",
      "   {\n",
      "    \"name\": \"#CCFCvARW\",\n",
      "    \"promoted_content\": null,\n",
      "    \"query\": \"%23CCFCvARW\",\n",
      "    \"tweet_volume\": null,\n",
      "    \"url\": \"http://twitter.com/search?q=%23CCFCvARW\"\n",
      "   },\n",
      "   {\n",
      "    \"name\": \"#ETMagazine\",\n",
      "    \"promoted_content\": null,\n",
      "    \"query\": \"%23ETMagazine\",\n",
      "    \"tweet_volume\": null,\n",
      "    \"url\": \"http://twitter.com/search?q=%23ETMagazine\"\n",
      "   },\n",
      "   {\n",
      "    \"name\": \"#LetsDineout\",\n",
      "    \"promoted_content\": null,\n",
      "    \"query\": \"%23LetsDineout\",\n",
      "    \"tweet_volume\": null,\n",
      "    \"url\": \"http://twitter.com/search?q=%23LetsDineout\"\n",
      "   },\n",
      "   {\n",
      "    \"name\": \"#Kohli\",\n",
      "    \"promoted_content\": null,\n",
      "    \"query\": \"%23Kohli\",\n",
      "    \"tweet_volume\": null,\n",
      "    \"url\": \"http://twitter.com/search?q=%23Kohli\"\n",
      "   },\n",
      "   {\n",
      "    \"name\": \"#ShubhMangalSaavdhan\",\n",
      "    \"promoted_content\": null,\n",
      "    \"query\": \"%23ShubhMangalSaavdhan\",\n",
      "    \"tweet_volume\": null,\n",
      "    \"url\": \"http://twitter.com/search?q=%23ShubhMangalSaavdhan\"\n",
      "   },\n",
      "   {\n",
      "    \"name\": \"#ChandrababuNaidu\",\n",
      "    \"promoted_content\": null,\n",
      "    \"query\": \"%23ChandrababuNaidu\",\n",
      "    \"tweet_volume\": null,\n",
      "    \"url\": \"http://twitter.com/search?q=%23ChandrababuNaidu\"\n",
      "   },\n",
      "   {\n",
      "    \"name\": \"#Jeeyar\",\n",
      "    \"promoted_content\": null,\n",
      "    \"query\": \"%23Jeeyar\",\n",
      "    \"tweet_volume\": null,\n",
      "    \"url\": \"http://twitter.com/search?q=%23Jeeyar\"\n",
      "   },\n",
      "   {\n",
      "    \"name\": \"#MaduraVeeranFromFeb2nd\",\n",
      "    \"promoted_content\": null,\n",
      "    \"query\": \"%23MaduraVeeranFromFeb2nd\",\n",
      "    \"tweet_volume\": null,\n",
      "    \"url\": \"http://twitter.com/search?q=%23MaduraVeeranFromFeb2nd\"\n",
      "   },\n",
      "   {\n",
      "    \"name\": \"#TheTallManBijuPatnaik\",\n",
      "    \"promoted_content\": null,\n",
      "    \"query\": \"%23TheTallManBijuPatnaik\",\n",
      "    \"tweet_volume\": null,\n",
      "    \"url\": \"http://twitter.com/search?q=%23TheTallManBijuPatnaik\"\n",
      "   }\n",
      "  ]\n",
      " }\n",
      "]\n"
     ]
    }
   ],
   "source": [
    "#Importing JSON\n",
    "\n",
    "import json\n",
    "\n",
    "#Printing a more readable version of the lists of trends and we sort each trend by using the option True in sort_keys\n",
    "\n",
    "\n",
    "print (json.dumps(in_trends, indent=1, sort_keys=True))\n"
   ]
  },
  {
   "cell_type": "code",
   "execution_count": 51,
   "metadata": {},
   "outputs": [
    {
     "name": "stdout",
     "output_type": "stream",
     "text": [
      "Length of statuses\n",
      "{\n",
      " \"created_at\": \"Sat Jan 27 15:42:00 +0000 2018\",\n",
      " \"id\": 957277519278874624,\n",
      " \"id_str\": \"957277519278874624\",\n",
      " \"text\": \"Pakistani feminist banned by @Facebook for criticizing those who victim blamed (on religious grounds) a 7-year old\\u2026 https://t.co/rNDkGyD9jM\",\n",
      " \"truncated\": true,\n",
      " \"entities\": {\n",
      "  \"hashtags\": [],\n",
      "  \"symbols\": [],\n",
      "  \"user_mentions\": [\n",
      "   {\n",
      "    \"screen_name\": \"facebook\",\n",
      "    \"name\": \"Facebook\",\n",
      "    \"id\": 2425151,\n",
      "    \"id_str\": \"2425151\",\n",
      "    \"indices\": [\n",
      "     29,\n",
      "     38\n",
      "    ]\n",
      "   }\n",
      "  ],\n",
      "  \"urls\": [\n",
      "   {\n",
      "    \"url\": \"https://t.co/rNDkGyD9jM\",\n",
      "    \"expanded_url\": \"https://twitter.com/i/web/status/957277519278874624\",\n",
      "    \"display_url\": \"twitter.com/i/web/status/9\\u2026\",\n",
      "    \"indices\": [\n",
      "     116,\n",
      "     139\n",
      "    ]\n",
      "   }\n",
      "  ]\n",
      " },\n",
      " \"metadata\": {\n",
      "  \"iso_language_code\": \"en\",\n",
      "  \"result_type\": \"recent\"\n",
      " },\n",
      " \"source\": \"<a href=\\\"https://about.twitter.com/products/tweetdeck\\\" rel=\\\"nofollow\\\">TweetDeck</a>\",\n",
      " \"in_reply_to_status_id\": null,\n",
      " \"in_reply_to_status_id_str\": null,\n",
      " \"in_reply_to_user_id\": null,\n",
      " \"in_reply_to_user_id_str\": null,\n",
      " \"in_reply_to_screen_name\": null,\n",
      " \"user\": {\n",
      "  \"id\": 439528396,\n",
      "  \"id_str\": \"439528396\",\n",
      "  \"name\": \"Golan Shahar \\u00ae \\ud83c\\uddee\\ud83c\\uddf1\\u2721\",\n",
      "  \"screen_name\": \"GolanSh\",\n",
      "  \"location\": \"#Jerusalem, #Israel\",\n",
      "  \"description\": \"The proud father of Maya. #Zionist #Israeli #Jew #USA \\ud83c\\uddfa\\ud83c\\uddf8\\u00a0Curious \\ud83d\\udd2c\\ud83d\\udcda #News #History #Kurdistan #NotPC Stay away from my Jew Gold! RT \\u2260 endorsement \\ud83c\\uddec\\ud83c\\udde7\\ud83c\\udde8\\ud83c\\udde6\\ud83c\\udde6\\ud83c\\uddfa\\ud83c\\uddf3\\ud83c\\uddff\\ud83c\\uddee\\ud83c\\uddf3\",\n",
      "  \"url\": \"https://t.co/LmNQt0E959\",\n",
      "  \"entities\": {\n",
      "   \"url\": {\n",
      "    \"urls\": [\n",
      "     {\n",
      "      \"url\": \"https://t.co/LmNQt0E959\",\n",
      "      \"expanded_url\": \"http://blog.golanshahar.com\",\n",
      "      \"display_url\": \"blog.golanshahar.com\",\n",
      "      \"indices\": [\n",
      "       0,\n",
      "       23\n",
      "      ]\n",
      "     }\n",
      "    ]\n",
      "   },\n",
      "   \"description\": {\n",
      "    \"urls\": []\n",
      "   }\n",
      "  },\n",
      "  \"protected\": false,\n",
      "  \"followers_count\": 13485,\n",
      "  \"friends_count\": 11930,\n",
      "  \"listed_count\": 311,\n",
      "  \"created_at\": \"Sat Dec 17 22:11:16 +0000 2011\",\n",
      "  \"favourites_count\": 8868,\n",
      "  \"utc_offset\": 7200,\n",
      "  \"time_zone\": \"Jerusalem\",\n",
      "  \"geo_enabled\": true,\n",
      "  \"verified\": false,\n",
      "  \"statuses_count\": 92420,\n",
      "  \"lang\": \"en\",\n",
      "  \"contributors_enabled\": false,\n",
      "  \"is_translator\": false,\n",
      "  \"is_translation_enabled\": false,\n",
      "  \"profile_background_color\": \"FFFFFF\",\n",
      "  \"profile_background_image_url\": \"http://pbs.twimg.com/profile_background_images/606207598367367168/65XefGl-.jpg\",\n",
      "  \"profile_background_image_url_https\": \"https://pbs.twimg.com/profile_background_images/606207598367367168/65XefGl-.jpg\",\n",
      "  \"profile_background_tile\": true,\n",
      "  \"profile_image_url\": \"http://pbs.twimg.com/profile_images/859073767942836224/v9XnziNV_normal.jpg\",\n",
      "  \"profile_image_url_https\": \"https://pbs.twimg.com/profile_images/859073767942836224/v9XnziNV_normal.jpg\",\n",
      "  \"profile_banner_url\": \"https://pbs.twimg.com/profile_banners/439528396/1408557762\",\n",
      "  \"profile_link_color\": \"1B95E0\",\n",
      "  \"profile_sidebar_border_color\": \"FFFFFF\",\n",
      "  \"profile_sidebar_fill_color\": \"DDEEF6\",\n",
      "  \"profile_text_color\": \"333333\",\n",
      "  \"profile_use_background_image\": true,\n",
      "  \"has_extended_profile\": true,\n",
      "  \"default_profile\": false,\n",
      "  \"default_profile_image\": false,\n",
      "  \"following\": false,\n",
      "  \"follow_request_sent\": false,\n",
      "  \"notifications\": false,\n",
      "  \"translator_type\": \"regular\"\n",
      " },\n",
      " \"geo\": null,\n",
      " \"coordinates\": null,\n",
      " \"place\": null,\n",
      " \"contributors\": null,\n",
      " \"is_quote_status\": false,\n",
      " \"retweet_count\": 1,\n",
      " \"favorite_count\": 1,\n",
      " \"favorited\": false,\n",
      " \"retweeted\": false,\n",
      " \"possibly_sensitive\": false,\n",
      " \"lang\": \"en\"\n",
      "}\n"
     ]
    }
   ],
   "source": [
    "#We set our keyword variableOur keyword is #feminism\n",
    "\n",
    "q = '#feminism'\n",
    "\n",
    "count = 100\n",
    "\n",
    "search_results = twitter_api.search.tweets(q=q, count=count)\n",
    "\n",
    "statuses = search_results['statuses']\n",
    "\n",
    "# We set a loop with the aim foriterate through 5 more batches of results by following the cursor\n",
    "\n",
    "for _ in range(5):\n",
    "    print (\"Length of statuses\"), len(statuses)\n",
    "    try:\n",
    "        next_results = search_results['search_metadata']['next_results']\n",
    "    except KeyError: # No more results when next_results doesn't exist\n",
    "        break\n",
    "        \n",
    "    # Create a dictionary from next_results\n",
    "    \n",
    "    kwargs = dict([ kv.split('=') for kv in next_results[1:].split(\"&\") ])\n",
    "    \n",
    "    search_results = twitter_api.search.tweets(**kwargs)\n",
    "    statuses += search_results['statuses']\n",
    "\n",
    "# Show one sample search result by slicing the list to see what we have\n",
    "\n",
    "print (json.dumps(statuses[0], indent=1))"
   ]
  },
  {
   "cell_type": "markdown",
   "metadata": {},
   "source": [
    "We collect screen names, hashtags and status:"
   ]
  },
  {
   "cell_type": "code",
   "execution_count": 52,
   "metadata": {},
   "outputs": [
    {
     "name": "stdout",
     "output_type": "stream",
     "text": [
      "[\n",
      " \"Pakistani feminist banned by @Facebook for criticizing those who victim blamed (on religious grounds) a 7-year old\\u2026 https://t.co/rNDkGyD9jM\",\n",
      " \"RT @WomenThrive: The discussions on #feminism, #MeToo , #equalpay, #genderinequality etc. at #WEF2018 are a huge step for gender equality w\\u2026\",\n",
      " \"\\\"Teach your daughters less about fitting into glass slippers and more about shattering glass ceilings\\\".\\u2026 https://t.co/0n5j3DnZ1P\",\n",
      " \"\\u201cEnsinaste-me que cada um de n\\u00f3s vem a este mundo para ganhar experi\\u00eancia e aprender uma li\\u00e7\\u00e3o e que cada pessoa qu\\u2026 https://t.co/Tp62LXTP5k\",\n",
      " \"17 Instagram accounts that demonstrate the importance of #feminism in 2018 https://t.co/RWU9oY5kNC\"\n",
      "]\n",
      "[\n",
      " \"facebook\",\n",
      " \"WomenThrive\",\n",
      " \"YouTube\",\n",
      " \"Nero\",\n",
      " \"MoscowTimes\"\n",
      "]\n",
      "[\n",
      " \"feminism\",\n",
      " \"MeToo\",\n",
      " \"equalpay\",\n",
      " \"genderinequality\",\n",
      " \"WEF2018\"\n",
      "]\n",
      "[\n",
      " \"Pakistani\",\n",
      " \"feminist\",\n",
      " \"banned\",\n",
      " \"by\",\n",
      " \"@Facebook\"\n",
      "]\n"
     ]
    }
   ],
   "source": [
    "status_texts = [ status['text'] \n",
    "                 for status in statuses ]\n",
    "\n",
    "screen_names = [ user_mention['screen_name'] \n",
    "                 for status in statuses\n",
    "                     for user_mention in status['entities']['user_mentions'] ]\n",
    "\n",
    "hashtags = [ hashtag['text'] \n",
    "             for status in statuses\n",
    "                 for hashtag in status['entities']['hashtags'] ]\n",
    "\n",
    "# Compute a collection of all words from all tweets\n",
    "words = [ w \n",
    "          for t in status_texts \n",
    "              for w in t.split() ]\n",
    "\n",
    "# Explore the first 5 items for each\n",
    "\n",
    "print (json.dumps(status_texts[0:5], indent=1))\n",
    "print (json.dumps(screen_names[0:5], indent=1))\n",
    "print (json.dumps(hashtags[0:5], indent=1))\n",
    "print (json.dumps(words[0:5], indent=1))"
   ]
  },
  {
   "cell_type": "code",
   "execution_count": 93,
   "metadata": {},
   "outputs": [
    {
     "name": "stdout",
     "output_type": "stream",
     "text": [
      "[('the', 33), ('#feminism', 33), ('RT', 23), ('a', 21), ('to', 18), ('of', 16), ('is', 16), ('on', 15), ('are', 13), ('as', 12)]\n",
      "[('MoscowTimes', 10), ('conservmillen', 3), ('Garymbparty', 2), ('facebook', 1), ('WomenThrive', 1), ('YouTube', 1), ('Nero', 1), ('cchukudebelu', 1), ('nazifumie', 1), ('H_Combs', 1)]\n",
      "[('feminism', 36), ('Feminism', 13), ('genderequality', 9), ('MeToo', 4), ('sexualharassment', 2), ('Women', 2), ('GenderEquality', 2), ('Canada', 2), ('equality', 2), ('equalpay', 1)]\n"
     ]
    }
   ],
   "source": [
    "#We make a table to count the frequency of words in related twits\n",
    "\n",
    "from collections import Counter\n",
    "\n",
    "for item in [words, screen_names, hashtags]:\n",
    "    c = Counter(item)\n",
    "    print (c.most_common()[:10]) # top 10\n",
    "    print"
   ]
  },
  {
   "cell_type": "code",
   "execution_count": 94,
   "metadata": {},
   "outputs": [
    {
     "name": "stdout",
     "output_type": "stream",
     "text": [
      "+-----------+-------+\n",
      "| Word      | Count |\n",
      "+-----------+-------+\n",
      "| the       |    33 |\n",
      "| #feminism |    33 |\n",
      "| RT        |    23 |\n",
      "| a         |    21 |\n",
      "| to        |    18 |\n",
      "| of        |    16 |\n",
      "| is        |    16 |\n",
      "| on        |    15 |\n",
      "| are       |    13 |\n",
      "| as        |    12 |\n",
      "+-----------+-------+\n",
      "+---------------+-------+\n",
      "| Screen Name   | Count |\n",
      "+---------------+-------+\n",
      "| MoscowTimes   |    10 |\n",
      "| conservmillen |     3 |\n",
      "| Garymbparty   |     2 |\n",
      "| facebook      |     1 |\n",
      "| WomenThrive   |     1 |\n",
      "| YouTube       |     1 |\n",
      "| Nero          |     1 |\n",
      "| cchukudebelu  |     1 |\n",
      "| nazifumie     |     1 |\n",
      "| H_Combs       |     1 |\n",
      "+---------------+-------+\n",
      "+------------------+-------+\n",
      "| Hashtag          | Count |\n",
      "+------------------+-------+\n",
      "| feminism         |    36 |\n",
      "| Feminism         |    13 |\n",
      "| genderequality   |     9 |\n",
      "| MeToo            |     4 |\n",
      "| sexualharassment |     2 |\n",
      "| Women            |     2 |\n",
      "| GenderEquality   |     2 |\n",
      "| Canada           |     2 |\n",
      "| equality         |     2 |\n",
      "| equalpay         |     1 |\n",
      "+------------------+-------+\n"
     ]
    }
   ],
   "source": [
    "#By using PrettyTable we can disploy the following tables so that we can interpret.\n",
    "\n",
    "for label, data in (('Word', words), \n",
    "                    ('Screen Name', screen_names), \n",
    "                    ('Hashtag', hashtags)):\n",
    "    pt = PrettyTable(field_names=[label, 'Count']) \n",
    "    c = Counter(data)\n",
    "    [ pt.add_row(kv) for kv in c.most_common()[:10] ]\n",
    "    pt.align[label], pt.align['Count'] = 'l', 'r' # Set column alignment\n",
    "    print (pt)"
   ]
  },
  {
   "cell_type": "markdown",
   "metadata": {},
   "source": [
    "For curiosity, we can also see whether people is saying some certain words. "
   ]
  },
  {
   "cell_type": "code",
   "execution_count": 120,
   "metadata": {},
   "outputs": [
    {
     "data": {
      "text/plain": [
       "True"
      ]
     },
     "execution_count": 120,
     "metadata": {},
     "output_type": "execute_result"
    }
   ],
   "source": [
    "#Do people say the word \"violation\" when they talk about feminism?\n",
    "'violation' in ('Word', words)[1]"
   ]
  },
  {
   "cell_type": "markdown",
   "metadata": {},
   "source": [
    "Apparently people do."
   ]
  },
  {
   "cell_type": "markdown",
   "metadata": {
    "collapsed": true
   },
   "source": [
    "## Conclusion\n",
    "\n",
    "Gender inequality has been a severe problem in India for centuries, even until today, we can still see unfortunate news like 'girls rape', 'violence against woman'. There are many statistical evidences could show how bad the situation is. Due to some limitations, we only extract two indicators from world bank dataset to give us a subtle but representative image of female status in India on work and education respectively. These two indicators have shown us that at least woman empowerment has been improved in recent years, no matter how bad it is initially.  \n",
    "\n",
    "Along with it, we can see from twitter data that 'feminism' has been a popular topic in India. The most interesting thing that turns out is the usage of hashtags where people clearly claim more equality by using them such as \"genderequality\", \"sexualHarassment\", \"MeToo\", \"equalpay\" etc. Regarding the screen names that are in the trending list, people is interacting with them where we can see international platforms like Facebook, YouTube or Moscow Times that are known to be very aware of the gender equality issue. \n",
    "\n",
    "Therefore, we conclude that Indian people do care about the issue of gender inequality and we can surely say that there is a claim or wish among twitter users to make real changes and make the gender parity more equal."
   ]
  }
 ],
 "metadata": {
  "kernelspec": {
   "display_name": "Python 3",
   "language": "python",
   "name": "python3"
  },
  "language_info": {
   "codemirror_mode": {
    "name": "ipython",
    "version": 3
   },
   "file_extension": ".py",
   "mimetype": "text/x-python",
   "name": "python",
   "nbconvert_exporter": "python",
   "pygments_lexer": "ipython3",
   "version": "3.6.2"
  }
 },
 "nbformat": 4,
 "nbformat_minor": 2
}
